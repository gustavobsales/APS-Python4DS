{
 "cells": [
  {
   "cell_type": "markdown",
   "metadata": {},
   "source": [
    "### Dicionário disponível em https://github.com/rfordatascience/tidytuesday/blob/master/data/2020/2020-03-10/readme.md"
   ]
  },
  {
   "cell_type": "markdown",
   "metadata": {},
   "source": [
    "# Data Dictionary\n",
    "\n",
    "# `tuition_cost.csv`\n",
    "\n",
    "|variable             |class     |description |\n",
    "|:--------------------|:---------|:-----------|\n",
    "|name                 |character |School name |\n",
    "|state                |character | State name |\n",
    "|state_code           |character | State Abbreviation |\n",
    "|type                 |character | Type: Public, private, for-profit|\n",
    "|degree_length        |character | 4 year or 2 year degree |\n",
    "|room_and_board       |double    | Room and board in USD |\n",
    "|in_state_tuition     |double    | Tuition for in-state residents in USD |\n",
    "|in_state_total       |double    | Total cost for in-state residents in USD (sum of room & board + in state tuition) |\n",
    "|out_of_state_tuition |double    | Tuition for out-of-state residents in USD|\n",
    "|out_of_state_total   |double    | Total cost for in-state residents in USD (sum of room & board + out of state tuition) |\n",
    "\n",
    "# `tuition_income.csv`\n",
    "\n",
    "|variable    |class     |description |\n",
    "|:-----------|:---------|:-----------|\n",
    "|name        |character | School name |\n",
    "|state       |character | State Name |\n",
    "|total_price |double    | Total price in USD |\n",
    "|year        |double    | year |\n",
    "|campus      |character | On or off-campus |\n",
    "|net_cost    |double    | Net-cost - average actually paid after scholarship/award |\n",
    "|income_lvl  |character | Income bracket |\n",
    "\n",
    "# `salary_potential.csv`\n",
    "\n",
    "|variable                  |class     |description |\n",
    "|:-------------------------|:---------|:-----------|\n",
    "|rank                      |double    | Potential salary rank within state |\n",
    "|name                      |character | Name of school |\n",
    "|state_name                |character | state name |\n",
    "|early_career_pay          |double    | Estimated early career pay in USD |\n",
    "|mid_career_pay            |double    | Estimated mid career pay in USD |\n",
    "|make_world_better_percent |double    | Percent of alumni who think they are making the world a better place |\n",
    "|stem_percent              |double    | Percent of student body in STEM |\n",
    "\n",
    "# `historical_tuition.csv`\n",
    "\n",
    "|variable     |class     |description |\n",
    "|:------------|:---------|:-----------|\n",
    "|type         |character | Type of school (All, Public, Private) |\n",
    "|year         |character | Academic year |\n",
    "|tuition_type |character | Tuition Type All Constant (dollar inflation adjusted), 4 year degree constant, 2 year constant, Current to year, 4 year current, 2 year current |\n",
    "|tuition_cost |double    | Tuition cost in USD |\n",
    "\n",
    "# `diversity_school.csv`\n",
    "|variable         |class     |description |\n",
    "|:----------------|:---------|:-----------|\n",
    "|name             |character | School name |\n",
    "|total_enrollment |double    | Total enrollment of students |\n",
    "|state            |character | State name |\n",
    "|category         |character | Group/Racial/Gender category |\n",
    "|enrollment       |double    | enrollment by category |"
   ]
  },
  {
   "cell_type": "code",
   "execution_count": null,
   "metadata": {},
   "outputs": [],
   "source": []
  }
 ],
 "metadata": {
  "kernelspec": {
   "display_name": "Python 3",
   "language": "python",
   "name": "python3"
  },
  "language_info": {
   "codemirror_mode": {
    "name": "ipython",
    "version": 3
   },
   "file_extension": ".py",
   "mimetype": "text/x-python",
   "name": "python",
   "nbconvert_exporter": "python",
   "pygments_lexer": "ipython3",
   "version": "3.8.3"
  }
 },
 "nbformat": 4,
 "nbformat_minor": 4
}
